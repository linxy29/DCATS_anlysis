{
 "cells": [
  {
   "cell_type": "markdown",
   "source": [
    "This is the file use to subsample data from the whole data set of the paper 'COVID-19 immune features revealed by a large-scale single-cell transcriptome atlas'."
   ],
   "metadata": {}
  },
  {
   "cell_type": "code",
   "execution_count": 1,
   "source": [
    "import numpy as np\n",
    "import pandas as pd\n",
    "import scanpy as sc"
   ],
   "outputs": [],
   "metadata": {}
  },
  {
   "cell_type": "code",
   "execution_count": 2,
   "source": [
    "sc.settings.verbosity = 3             # verbosity: errors (0), warnings (1), info (2), hints (3)\n",
    "sc.logging.print_header()\n",
    "sc.settings.set_figure_params(dpi=80, facecolor='white')\n",
    "\n",
    "results_file = '/storage/holab/linxy/DCATS/'  # the file that will store the analysis results"
   ],
   "outputs": [
    {
     "output_type": "stream",
     "name": "stdout",
     "text": [
      "scanpy==1.6.0 anndata==0.7.5 umap==0.4.6 numpy==1.19.4 scipy==1.5.3 pandas==1.2.1 scikit-learn==0.23.2 statsmodels==0.12.1 python-igraph==0.8.3 louvain==0.7.0 leidenalg==0.8.3\n"
     ]
    }
   ],
   "metadata": {}
  },
  {
   "cell_type": "code",
   "execution_count": 3,
   "source": [
    "adata = sc.read_h5ad(\"/storage/holab/linxy/DCATS/Ren2021_all.h5ad\")\n",
    "adata"
   ],
   "outputs": [
    {
     "output_type": "execute_result",
     "data": {
      "text/plain": [
       "AnnData object with n_obs × n_vars = 1462702 × 27943\n",
       "    obs: 'celltype', 'majorType', 'sampleID', 'PatientID', 'datasets', 'City', 'Age', 'Sex', 'Sample type', 'CoVID-19 severity', 'Sample time', 'Sampling day (Days after symptom onset)', 'SARS-CoV-2', 'Single cell sequencing platform', 'BCR single cell sequencing', 'TCR single cell sequencing', 'Outcome', 'Comorbidities', 'COVID-19-related medication and anti-microbials', 'Leukocytes [G/L]', 'Neutrophils [G/L]', 'Lymphocytes [G/L]', 'Unpublished'\n",
       "    uns: 'neighbors', 'pca'\n",
       "    obsm: 'X_pca', 'X_tsne', 'har_emb'\n",
       "    obsp: 'connectivities', 'distances'"
      ]
     },
     "metadata": {},
     "execution_count": 3
    }
   ],
   "metadata": {}
  },
  {
   "cell_type": "markdown",
   "source": [
    "Subsample 5% cells"
   ],
   "metadata": {}
  },
  {
   "cell_type": "code",
   "execution_count": 5,
   "source": [
    "sub_adata = sc.pp.subsample(adata, fraction = 0.05, copy = True)\n",
    "sub_adata"
   ],
   "outputs": [
    {
     "output_type": "stream",
     "name": "stderr",
     "text": [
      "/home/linxy29/.conda/envs/lxy1/lib/python3.7/site-packages/pandas/core/arrays/categorical.py:2487: FutureWarning: The `inplace` parameter in pandas.Categorical.remove_unused_categories is deprecated and will be removed in a future version.\n",
      "  res = method(*args, **kwargs)\n"
     ]
    },
    {
     "output_type": "execute_result",
     "data": {
      "text/plain": [
       "AnnData object with n_obs × n_vars = 73135 × 27943\n",
       "    obs: 'celltype', 'majorType', 'sampleID', 'PatientID', 'datasets', 'City', 'Age', 'Sex', 'Sample type', 'CoVID-19 severity', 'Sample time', 'Sampling day (Days after symptom onset)', 'SARS-CoV-2', 'Single cell sequencing platform', 'BCR single cell sequencing', 'TCR single cell sequencing', 'Outcome', 'Comorbidities', 'COVID-19-related medication and anti-microbials', 'Leukocytes [G/L]', 'Neutrophils [G/L]', 'Lymphocytes [G/L]', 'Unpublished'\n",
       "    uns: 'neighbors', 'pca'\n",
       "    obsm: 'X_pca', 'X_tsne', 'har_emb'\n",
       "    obsp: 'connectivities', 'distances'"
      ]
     },
     "metadata": {},
     "execution_count": 5
    }
   ],
   "metadata": {}
  },
  {
   "cell_type": "code",
   "execution_count": 18,
   "source": [
    "sub_adata.obsm['X_pca']   # a numpy.ndarry object\n",
    "sub_adata.obsm['X_pca'].shape  # 73135, 50"
   ],
   "outputs": [
    {
     "output_type": "execute_result",
     "data": {
      "text/plain": [
       "(73135, 50)"
      ]
     },
     "metadata": {},
     "execution_count": 18
    }
   ],
   "metadata": {}
  },
  {
   "cell_type": "code",
   "execution_count": 32,
   "source": [
    "sub_pca = sub_adata.obsm['X_pca']\n",
    "pcaDF = pd.DataFrame(sub_pca)\n",
    "pcaDF.head\n",
    "#print(type(sub_adata.obs['sampleID']))"
   ],
   "outputs": [
    {
     "output_type": "execute_result",
     "data": {
      "text/plain": [
       "<bound method NDFrame.head of              0         1         2         3         4          5          6   \\\n",
       "0     -1.760253  3.386553  0.045719 -0.056496 -0.019635   0.112574  -1.183515   \n",
       "1     -3.632395  7.855037  1.371150 -0.197809  1.011374  -0.008764   0.240486   \n",
       "2     -2.659772 -2.739936 -2.674244  2.916973  0.519956  -2.309491   1.650157   \n",
       "3     -0.793669 -1.983642 -0.820006  3.541181 -0.081824  22.126276  12.663067   \n",
       "4     -4.218463  6.004827  0.558667 -0.447683  0.160857   0.672377  -1.080915   \n",
       "...         ...       ...       ...       ...       ...        ...        ...   \n",
       "73130 -4.004488  5.054613  0.141885 -0.676689 -0.561270   0.569979  -0.736629   \n",
       "73131  7.303104  0.463246 -1.615991 -0.066300  3.957607  -1.163442   0.628077   \n",
       "73132 -1.660278 -2.929883 -3.354737  3.296285 -0.177473  -1.527860   2.136412   \n",
       "73133 -3.276169 -1.390568 -3.157488  2.727828  0.892777  -1.309038   0.945801   \n",
       "73134 -1.953783 -5.673783  4.907259 -3.128402  0.351234   0.148699  -0.636174   \n",
       "\n",
       "             7         8         9   ...        40        41        42  \\\n",
       "0     -0.579285  0.327081  0.308848  ... -0.094020 -0.624698 -0.371838   \n",
       "1     -0.020051 -0.018004  1.048698  ...  0.116037 -0.146774 -0.138125   \n",
       "2     -1.240255 -0.015950 -1.225037  ...  0.588050  1.046977  0.114641   \n",
       "3     -2.895926 -1.949271  1.657712  ...  0.192254  1.350078 -0.545951   \n",
       "4      1.059521 -0.137464  1.233410  ... -0.065024 -0.669083  0.272246   \n",
       "...         ...       ...       ...  ...       ...       ...       ...   \n",
       "73130 -0.719589  0.533969 -0.727231  ...  0.333356 -0.199195 -0.559112   \n",
       "73131 -2.241185 -0.068310 -4.142549  ... -0.446357  0.676305  0.650393   \n",
       "73132  2.705325 -0.834641  1.661832  ...  1.203503 -0.815860  0.157588   \n",
       "73133 -1.908432  0.993667 -0.680667  ... -0.293737 -0.031675  1.329126   \n",
       "73134 -1.366376  0.852408  0.017932  ...  0.494604 -0.167870 -0.234875   \n",
       "\n",
       "             43        44        45        46        47        48        49  \n",
       "0     -0.110544  0.284255 -0.500816 -0.021962 -0.210882 -0.066712 -0.582042  \n",
       "1      0.520244  0.647047 -0.138259 -0.455237 -0.125662 -0.204700 -0.140823  \n",
       "2     -0.153986  0.832186  0.225039 -0.115408 -0.069121 -0.210024 -0.488813  \n",
       "3     -1.207705 -0.824775  2.588233 -0.231642  0.379239 -0.538943 -1.462624  \n",
       "4     -0.221344 -0.279208 -0.282669 -0.694966  0.279786 -0.358229  0.076418  \n",
       "...         ...       ...       ...       ...       ...       ...       ...  \n",
       "73130 -0.155159 -0.086434  0.350166  0.572624 -0.661420  0.027770  0.048830  \n",
       "73131 -0.138664  0.262355  0.724117 -0.072130  0.964590  0.494561  0.485861  \n",
       "73132 -0.421299  0.396865  0.785041  0.786231 -0.378512  0.382530 -0.398958  \n",
       "73133 -0.031952  0.479541  0.811620 -0.810226 -0.177420  0.531125 -0.362807  \n",
       "73134  0.120221  0.083028  0.024635 -0.253075  0.364846  0.225892  0.083980  \n",
       "\n",
       "[73135 rows x 50 columns]>"
      ]
     },
     "metadata": {},
     "execution_count": 32
    }
   ],
   "metadata": {}
  },
  {
   "cell_type": "code",
   "execution_count": 35,
   "source": [
    "idDF = sub_adata.obs['sampleID'].to_frame()\n",
    "idDF.index.name = 'barcode'\n",
    "idDF.reset_index(inplace=True)\n",
    "print(idDF)"
   ],
   "outputs": [
    {
     "output_type": "stream",
     "name": "stdout",
     "text": [
      "                    barcode  sampleID\n",
      "0      CCACTACAGTAGCCGA-280    S-S050\n",
      "1      GTGCTTCCAGCTTCGG-162  S-S021-3\n",
      "2       CGACCTTCATTAGCCA-34   S-HC012\n",
      "3      CACGAATCAATCCAGT-176  S-M009-1\n",
      "4      AACTGGTTCCAACCAA-154  S-M008-1\n",
      "...                     ...       ...\n",
      "73130  CGCGTTTAGTCGTACT-218  S-M040-2\n",
      "73131  GTCAAGTAGACAGGCT-270    S-S041\n",
      "73132  AAGTACCCAATTGCTG-189    S-S020\n",
      "73133  CTTAACTGTTTACTCT-273    S-S043\n",
      "73134   AGGTCCGCAGGTTTCA-35    S-M055\n",
      "\n",
      "[73135 rows x 2 columns]\n"
     ]
    }
   ],
   "metadata": {}
  },
  {
   "cell_type": "code",
   "execution_count": 41,
   "source": [
    "resDF = pd.concat([idDF, pcaDF], axis=1)\n",
    "print(resDF.head)\n",
    "resDF.to_csv('/storage/holab/linxy/DCATS/Ren2021_pca.csv')"
   ],
   "outputs": [
    {
     "output_type": "stream",
     "name": "stdout",
     "text": [
      "<bound method NDFrame.head of                     barcode  sampleID         0         1         2         3  \\\n",
      "0      CCACTACAGTAGCCGA-280    S-S050 -1.760253  3.386553  0.045719 -0.056496   \n",
      "1      GTGCTTCCAGCTTCGG-162  S-S021-3 -3.632395  7.855037  1.371150 -0.197809   \n",
      "2       CGACCTTCATTAGCCA-34   S-HC012 -2.659772 -2.739936 -2.674244  2.916973   \n",
      "3      CACGAATCAATCCAGT-176  S-M009-1 -0.793669 -1.983642 -0.820006  3.541181   \n",
      "4      AACTGGTTCCAACCAA-154  S-M008-1 -4.218463  6.004827  0.558667 -0.447683   \n",
      "...                     ...       ...       ...       ...       ...       ...   \n",
      "73130  CGCGTTTAGTCGTACT-218  S-M040-2 -4.004488  5.054613  0.141885 -0.676689   \n",
      "73131  GTCAAGTAGACAGGCT-270    S-S041  7.303104  0.463246 -1.615991 -0.066300   \n",
      "73132  AAGTACCCAATTGCTG-189    S-S020 -1.660278 -2.929883 -3.354737  3.296285   \n",
      "73133  CTTAACTGTTTACTCT-273    S-S043 -3.276169 -1.390568 -3.157488  2.727828   \n",
      "73134   AGGTCCGCAGGTTTCA-35    S-M055 -1.953783 -5.673783  4.907259 -3.128402   \n",
      "\n",
      "              4          5          6         7  ...        40        41  \\\n",
      "0     -0.019635   0.112574  -1.183515 -0.579285  ... -0.094020 -0.624698   \n",
      "1      1.011374  -0.008764   0.240486 -0.020051  ...  0.116037 -0.146774   \n",
      "2      0.519956  -2.309491   1.650157 -1.240255  ...  0.588050  1.046977   \n",
      "3     -0.081824  22.126276  12.663067 -2.895926  ...  0.192254  1.350078   \n",
      "4      0.160857   0.672377  -1.080915  1.059521  ... -0.065024 -0.669083   \n",
      "...         ...        ...        ...       ...  ...       ...       ...   \n",
      "73130 -0.561270   0.569979  -0.736629 -0.719589  ...  0.333356 -0.199195   \n",
      "73131  3.957607  -1.163442   0.628077 -2.241185  ... -0.446357  0.676305   \n",
      "73132 -0.177473  -1.527860   2.136412  2.705325  ...  1.203503 -0.815860   \n",
      "73133  0.892777  -1.309038   0.945801 -1.908432  ... -0.293737 -0.031675   \n",
      "73134  0.351234   0.148699  -0.636174 -1.366376  ...  0.494604 -0.167870   \n",
      "\n",
      "             42        43        44        45        46        47        48  \\\n",
      "0     -0.371838 -0.110544  0.284255 -0.500816 -0.021962 -0.210882 -0.066712   \n",
      "1     -0.138125  0.520244  0.647047 -0.138259 -0.455237 -0.125662 -0.204700   \n",
      "2      0.114641 -0.153986  0.832186  0.225039 -0.115408 -0.069121 -0.210024   \n",
      "3     -0.545951 -1.207705 -0.824775  2.588233 -0.231642  0.379239 -0.538943   \n",
      "4      0.272246 -0.221344 -0.279208 -0.282669 -0.694966  0.279786 -0.358229   \n",
      "...         ...       ...       ...       ...       ...       ...       ...   \n",
      "73130 -0.559112 -0.155159 -0.086434  0.350166  0.572624 -0.661420  0.027770   \n",
      "73131  0.650393 -0.138664  0.262355  0.724117 -0.072130  0.964590  0.494561   \n",
      "73132  0.157588 -0.421299  0.396865  0.785041  0.786231 -0.378512  0.382530   \n",
      "73133  1.329126 -0.031952  0.479541  0.811620 -0.810226 -0.177420  0.531125   \n",
      "73134 -0.234875  0.120221  0.083028  0.024635 -0.253075  0.364846  0.225892   \n",
      "\n",
      "             49  \n",
      "0     -0.582042  \n",
      "1     -0.140823  \n",
      "2     -0.488813  \n",
      "3     -1.462624  \n",
      "4      0.076418  \n",
      "...         ...  \n",
      "73130  0.048830  \n",
      "73131  0.485861  \n",
      "73132 -0.398958  \n",
      "73133 -0.362807  \n",
      "73134  0.083980  \n",
      "\n",
      "[73135 rows x 52 columns]>\n"
     ]
    }
   ],
   "metadata": {}
  }
 ],
 "metadata": {
  "orig_nbformat": 4,
  "language_info": {
   "name": "python",
   "version": "3.7.8",
   "mimetype": "text/x-python",
   "codemirror_mode": {
    "name": "ipython",
    "version": 3
   },
   "pygments_lexer": "ipython3",
   "nbconvert_exporter": "python",
   "file_extension": ".py"
  },
  "kernelspec": {
   "name": "python3",
   "display_name": "Python 3.7.8 64-bit ('lxy1': conda)"
  },
  "interpreter": {
   "hash": "93abac0cf565c5f3819188ba6958201d5129e47a51d4009d0d6ed3a495000ab7"
  }
 },
 "nbformat": 4,
 "nbformat_minor": 2
}